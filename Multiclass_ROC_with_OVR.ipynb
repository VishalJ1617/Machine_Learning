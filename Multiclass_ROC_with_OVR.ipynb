{
 "cells": [
  {
   "cell_type": "markdown",
   "id": "63143213",
   "metadata": {},
   "source": [
    "## Multi-class ROC with OVR"
   ]
  },
  {
   "cell_type": "code",
   "execution_count": 1,
   "id": "ec698455",
   "metadata": {},
   "outputs": [],
   "source": [
    "import pandas as pd\n",
    "import numpy as np\n"
   ]
  },
  {
   "cell_type": "code",
   "execution_count": 2,
   "id": "3dc9711d",
   "metadata": {},
   "outputs": [],
   "source": [
    "img=pd.read_csv('Image_Segmention.csv')"
   ]
  },
  {
   "cell_type": "code",
   "execution_count": 4,
   "id": "4966905a",
   "metadata": {},
   "outputs": [],
   "source": [
    "from sklearn.preprocessing import LabelEncoder"
   ]
  },
  {
   "cell_type": "code",
   "execution_count": null,
   "id": "b556b5ae",
   "metadata": {},
   "outputs": [],
   "source": []
  }
 ],
 "metadata": {
  "kernelspec": {
   "display_name": "Python 3 (ipykernel)",
   "language": "python",
   "name": "python3"
  },
  "language_info": {
   "codemirror_mode": {
    "name": "ipython",
    "version": 3
   },
   "file_extension": ".py",
   "mimetype": "text/x-python",
   "name": "python",
   "nbconvert_exporter": "python",
   "pygments_lexer": "ipython3",
   "version": "3.11.4"
  }
 },
 "nbformat": 4,
 "nbformat_minor": 5
}
